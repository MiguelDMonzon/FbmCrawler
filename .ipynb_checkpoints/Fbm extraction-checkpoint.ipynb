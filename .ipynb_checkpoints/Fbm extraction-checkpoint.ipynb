{
 "cells": [
  {
   "cell_type": "code",
   "execution_count": 85,
   "metadata": {
    "collapsed": false
   },
   "outputs": [
    {
     "ename": "KeyboardInterrupt",
     "evalue": "",
     "output_type": "error",
     "traceback": [
      "\u001b[0;31m---------------------------------------------------------------------------\u001b[0m",
      "\u001b[0;31mKeyboardInterrupt\u001b[0m                         Traceback (most recent call last)",
      "\u001b[0;32m<ipython-input-85-91bad5feeeab>\u001b[0m in \u001b[0;36m<module>\u001b[0;34m()\u001b[0m\n\u001b[1;32m     29\u001b[0m     \u001b[0mi\u001b[0m\u001b[0;34m.\u001b[0m\u001b[0mclick\u001b[0m\u001b[0;34m(\u001b[0m\u001b[0;34m)\u001b[0m\u001b[0;34m\u001b[0m\u001b[0m\n\u001b[1;32m     30\u001b[0m     \u001b[0;31m# Esperar un segundo\u001b[0m\u001b[0;34m\u001b[0m\u001b[0;34m\u001b[0m\u001b[0m\n\u001b[0;32m---> 31\u001b[0;31m     \u001b[0mtime\u001b[0m\u001b[0;34m.\u001b[0m\u001b[0msleep\u001b[0m\u001b[0;34m(\u001b[0m\u001b[0;36m500\u001b[0m\u001b[0;34m)\u001b[0m\u001b[0;34m\u001b[0m\u001b[0m\n\u001b[0m\u001b[1;32m     32\u001b[0m \u001b[0;31m#    print i\u001b[0m\u001b[0;34m\u001b[0m\u001b[0;34m\u001b[0m\u001b[0m\n\u001b[1;32m     33\u001b[0m \u001b[0;31m#    elem.send_keys(Keys.ARROW_DOWN)\u001b[0m\u001b[0;34m\u001b[0m\u001b[0;34m\u001b[0m\u001b[0m\n",
      "\u001b[0;31mKeyboardInterrupt\u001b[0m: "
     ]
    }
   ],
   "source": [
    "#!/usr/bin/env python2\n",
    "# -*- coding: utf-8 -*-\n",
    "\"\"\"\n",
    "Created on Tue Nov 22 10:05:12 2016\n",
    "\n",
    "@author: migueld\n",
    "\"\"\"\n",
    "\n",
    "from selenium import webdriver\n",
    "from selenium.webdriver.common.keys import Keys\n",
    "import time\n",
    "\n",
    "# Entrar en la página de la FBM\n",
    "driver = webdriver.Firefox()\n",
    "driver.get(\"http://competiciones.feb.es/autonomicas/Resultados.aspx?a=14\")\n",
    "driver.maximize_window()\n",
    "\n",
    "# Ir a las categorías y buscar la categoría\n",
    "elem = driver.find_element_by_id(\"controlNavegacion_categoriasDropDownList\")\n",
    "elem.click()\n",
    "elem.send_keys(Keys.ARROW_DOWN)\n",
    "elem.click()\n",
    "\n",
    "categorias = elem.find_elements_by_tag_name(\"option\")\n",
    "\n",
    "\n",
    "for i in categorias: \n",
    "    elem.click()\n",
    "    i.click()\n",
    "    # Esperar un segundo\n",
    "    time.sleep(1)\n",
    "#    print i\n",
    "#    elem.send_keys(Keys.ARROW_DOWN)\n",
    "#    elem.send_keys(Keys.ENTER)"
   ]
  },
  {
   "cell_type": "code",
   "execution_count": null,
   "metadata": {
    "collapsed": true
   },
   "outputs": [],
   "source": []
  },
  {
   "cell_type": "code",
   "execution_count": null,
   "metadata": {
    "collapsed": true
   },
   "outputs": [],
   "source": []
  },
  {
   "cell_type": "code",
   "execution_count": null,
   "metadata": {
    "collapsed": true
   },
   "outputs": [],
   "source": []
  },
  {
   "cell_type": "code",
   "execution_count": null,
   "metadata": {
    "collapsed": true
   },
   "outputs": [],
   "source": []
  },
  {
   "cell_type": "code",
   "execution_count": 74,
   "metadata": {
    "collapsed": false
   },
   "outputs": [
    {
     "name": "stdout",
     "output_type": "stream",
     "text": [
      "1\n"
     ]
    },
    {
     "ename": "KeyboardInterrupt",
     "evalue": "",
     "output_type": "error",
     "traceback": [
      "\u001b[0;31m---------------------------------------------------------------------------\u001b[0m",
      "\u001b[0;31mKeyboardInterrupt\u001b[0m                         Traceback (most recent call last)",
      "\u001b[0;32m<ipython-input-74-48379ef53f8b>\u001b[0m in \u001b[0;36m<module>\u001b[0;34m()\u001b[0m\n\u001b[1;32m     51\u001b[0m     \u001b[0mhtml_output\u001b[0m \u001b[0;34m=\u001b[0m \u001b[0mopen\u001b[0m\u001b[0;34m(\u001b[0m\u001b[0;34m\"Jornada\"\u001b[0m\u001b[0;34m+\u001b[0m\u001b[0mstr\u001b[0m\u001b[0;34m(\u001b[0m\u001b[0mi\u001b[0m\u001b[0;34m)\u001b[0m\u001b[0;34m+\u001b[0m\u001b[0;34m\".html\"\u001b[0m\u001b[0;34m,\u001b[0m \u001b[0;34m\"w\"\u001b[0m\u001b[0;34m)\u001b[0m\u001b[0;34m\u001b[0m\u001b[0m\n\u001b[1;32m     52\u001b[0m     \u001b[0mhtml_output\u001b[0m\u001b[0;34m.\u001b[0m\u001b[0mwrite\u001b[0m\u001b[0;34m(\u001b[0m\u001b[0mhtml_source\u001b[0m\u001b[0;34m.\u001b[0m\u001b[0mencode\u001b[0m\u001b[0;34m(\u001b[0m\u001b[0;34m\"utf-8\"\u001b[0m\u001b[0;34m)\u001b[0m\u001b[0;34m)\u001b[0m\u001b[0;34m\u001b[0m\u001b[0m\n\u001b[0;32m---> 53\u001b[0;31m     \u001b[0mtime\u001b[0m\u001b[0;34m.\u001b[0m\u001b[0msleep\u001b[0m\u001b[0;34m(\u001b[0m\u001b[0;36m2\u001b[0m\u001b[0;34m)\u001b[0m\u001b[0;34m\u001b[0m\u001b[0m\n\u001b[0m\u001b[1;32m     54\u001b[0m     \u001b[0melem\u001b[0m \u001b[0;34m=\u001b[0m \u001b[0mdriver\u001b[0m\u001b[0;34m.\u001b[0m\u001b[0mfind_element_by_id\u001b[0m\u001b[0;34m(\u001b[0m\u001b[0;34m\"jornadasDropDownList\"\u001b[0m\u001b[0;34m)\u001b[0m\u001b[0;34m\u001b[0m\u001b[0m\n\u001b[1;32m     55\u001b[0m     \u001b[0melem\u001b[0m\u001b[0;34m.\u001b[0m\u001b[0msend_keys\u001b[0m\u001b[0;34m(\u001b[0m\u001b[0mKeys\u001b[0m\u001b[0;34m.\u001b[0m\u001b[0mARROW_DOWN\u001b[0m\u001b[0;34m)\u001b[0m\u001b[0;34m\u001b[0m\u001b[0m\n",
      "\u001b[0;31mKeyboardInterrupt\u001b[0m: "
     ]
    }
   ],
   "source": [
    "#!/usr/bin/env python2\n",
    "# -*- coding: utf-8 -*-\n",
    "\"\"\"\n",
    "Created on Tue Nov 22 10:05:12 2016\n",
    "\n",
    "@author: migueld\n",
    "\"\"\"\n",
    "\n",
    "from selenium import webdriver\n",
    "from selenium.webdriver.common.keys import Keys\n",
    "import time\n",
    "\n",
    "\n",
    "# Entrar en la página de la FBM\n",
    "driver = webdriver.Firefox()\n",
    "driver.get(\"http://competiciones.feb.es/autonomicas/Resultados.aspx?a=14\")\n",
    "\n",
    "# Ir a las categorías y buscar la categoría\n",
    "elem = driver.find_element_by_id(\"controlNavegacion_categoriasDropDownList\")\n",
    "for i in range(0, 13):    \n",
    "    elem.send_keys(Keys.ARROW_DOWN)\n",
    "elem.send_keys(Keys.ENTER)\n",
    "\n",
    "# Esperar un segundo\n",
    "time.sleep(1)\n",
    "\n",
    "# Ir a los grupos y buscar el grupo\n",
    "elem = driver.find_element_by_id(\"gruposDropDownList\")\n",
    "elem.send_keys(Keys.ARROW_DOWN)\n",
    "elem.send_keys(Keys.ENTER)\n",
    "\n",
    "# Esperar 2 segundos\n",
    "time.sleep(2)\n",
    "\n",
    "# Ir a las jornadas, y obtener la jornada actual\n",
    "elem = driver.find_element_by_id(\"jornadasDropDownList\")\n",
    "jornada = elem.find_element_by_xpath(\"option[@selected='selected']\").text\n",
    "num_jornada = int(jornada.split(\" \")[1])\n",
    "print(num_jornada)\n",
    "\n",
    "# Desplazarse por el combobox de jornadas hasta la primera\n",
    "for i in range(0, num_jornada):\n",
    "    elem.send_keys(Keys.ARROW_UP)\n",
    "elem.send_keys(Keys.ENTER)\n",
    "\n",
    "\n",
    "# Para cada jornada, obtener el contenido y guardarlo\n",
    "for i in range(1, 11):\n",
    "    time.sleep(2)\n",
    "    html_source = driver.page_source\n",
    "    html_output = open(\"Jornada\"+str(i)+\".html\", \"w\")\n",
    "    html_output.write(html_source.encode(\"utf-8\"))\n",
    "    time.sleep(2)\n",
    "    elem = driver.find_element_by_id(\"jornadasDropDownList\")\n",
    "    elem.send_keys(Keys.ARROW_DOWN)\n",
    "    elem.send_keys(Keys.ENTER)\n",
    "\n",
    "driver.close()"
   ]
  },
  {
   "cell_type": "code",
   "execution_count": null,
   "metadata": {
    "collapsed": true
   },
   "outputs": [],
   "source": []
  },
  {
   "cell_type": "code",
   "execution_count": null,
   "metadata": {
    "collapsed": true
   },
   "outputs": [],
   "source": []
  }
 ],
 "metadata": {
  "kernelspec": {
   "display_name": "Python 2",
   "language": "python",
   "name": "python2"
  },
  "language_info": {
   "codemirror_mode": {
    "name": "ipython",
    "version": 2
   },
   "file_extension": ".py",
   "mimetype": "text/x-python",
   "name": "python",
   "nbconvert_exporter": "python",
   "pygments_lexer": "ipython2",
   "version": "2.7.13"
  }
 },
 "nbformat": 4,
 "nbformat_minor": 2
}
